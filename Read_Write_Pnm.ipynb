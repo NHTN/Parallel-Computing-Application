{
  "nbformat": 4,
  "nbformat_minor": 0,
  "metadata": {
    "colab": {
      "name": "Kmeans",
      "provenance": []
    },
    "kernelspec": {
      "name": "python3",
      "display_name": "Python 3"
    },
    "language_info": {
      "name": "python"
    }
  },
  "cells": [
    {
      "cell_type": "code",
      "metadata": {
        "id": "yAWxD39nRD1K"
      },
      "source": [
        "from PIL import Image\n",
        "import numpy as np"
      ],
      "execution_count": 150,
      "outputs": []
    },
    {
      "cell_type": "code",
      "metadata": {
        "id": "SMfPqvBXB6P5"
      },
      "source": [
        "def ReadPnm(file_name):\n",
        "  with open(file_name, 'r') as f:\n",
        "    vals = f.read().split()\n",
        "  w = int(vals[1])\n",
        "  h = int(vals[2])\n",
        "  if vals[0] == 'P2': # Grayscale\n",
        "    pixels = np.array(vals[4:], dtype=np.uint8).reshape((h, w))\n",
        "  elif vals[0] == 'P3': # RGB\n",
        "    pixels = np.array(vals[4:], dtype=np.uint8).reshape((h, w, 3))\n",
        "  else:\n",
        "    return None\n",
        "  \n",
        "  return pixels"
      ],
      "execution_count": 201,
      "outputs": []
    },
    {
      "cell_type": "code",
      "metadata": {
        "id": "K3S6nhQhMW4Y"
      },
      "source": [
        "def WritePnm(file_name, pixels, h, w , numchannels):\n",
        "  f = open(file_name, \"a\")\n",
        "  if (numchannels == 3):\n",
        "    f.write('P3\\n')\n",
        "  else:\n",
        "    f.write('P2\\n')\n",
        "  f.write(str(w) + ' ')\n",
        "  f.write(str(h) + '\\n')\n",
        "  f.write('255\\n')\n",
        "  for i in pixels:\n",
        "    for j in i:\n",
        "      for k in j:\n",
        "        f.write(str(k) + ' ')\n",
        "    f.write('\\n')"
      ],
      "execution_count": 207,
      "outputs": []
    },
    {
      "cell_type": "code",
      "metadata": {
        "id": "yts8ccWvY8in"
      },
      "source": [
        ""
      ],
      "execution_count": null,
      "outputs": []
    }
  ]
}