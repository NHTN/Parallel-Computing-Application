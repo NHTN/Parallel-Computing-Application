{
 "cells": [
  {
   "cell_type": "markdown",
   "metadata": {},
   "source": [
    "## Trường Đại Học Khoa Học Tự Nhiên\n",
    "### Khoa Công Nghệ Thông Tin"
   ]
  },
  {
   "cell_type": "markdown",
   "metadata": {},
   "source": [
    "Môn học: Lập trình song song ứng dụng\n",
    "\n",
    "Lớp: CQ2017/1"
   ]
  },
  {
   "cell_type": "markdown",
   "metadata": {},
   "source": [
    "## ĐỒ ÁN MÔN HỌC\n",
    "### Đề tài: Song song hoá phân đoạn ảnh bằng phương pháp K-means"
   ]
  },
  {
   "cell_type": "markdown",
   "metadata": {},
   "source": [
    "**Danh sách thành viên nhóm:**\n",
    "\n",
    "| STT| MSSV | Thành viên |\n",
    "| --- | --- | --- |\n",
    "| 1 | 1712117 | Nguyễn Huỳnh Thảo Nhi |   \n",
    "| 2 | 1712713 | Lê Bá Quyền |   \n",
    "| 3 | 1712175 | Nguyễn Lê Trường Thành |   "
   ]
  },
  {
   "cell_type": "markdown",
   "metadata": {},
   "source": [
    "### 1. Giới thiệu đồ án:"
   ]
  },
  {
   "cell_type": "markdown",
   "metadata": {},
   "source": [
    "- Đồ án môn học Lập trình song song ứng dụng.\n",
    "- Ứng dụng kiến thức đã học được từ môn học Lập trình song song, song song hoá và tối ưu hoá một ứng dụng cần tăng tốc.\n",
    "- Ngôn ngữ lập trình: Python\n",
    "- Source control: Github\n",
    "- Môi trường lập trình: Google Colab"
   ]
  },
  {
   "cell_type": "markdown",
   "metadata": {},
   "source": [
    "### 2. Phân công"
   ]
  },
  {
   "cell_type": "markdown",
   "metadata": {},
   "source": [
    "\n",
    "| STT| Công việc | Thành viên | Thời gian | \n",
    "| --- | --- | --- | --- |\n",
    "| 1 | Thảo luận, lựa chọn đề tài | Cả nhóm |   \n",
    "| 2 | Code thuật toán tuần tự |  |   \n",
    "| 3 | Code thuật toán song song |  |   \n",
    "| 4 | Tối ưu lần 1 |  |   \n",
    "| 5 | Tối ưu lần 2 |  |   \n",
    "| 6 | Soạn báo cáo |  |   \n",
    "| 7 | Kiểm tra |  |   "
   ]
  },
  {
   "cell_type": "markdown",
   "metadata": {},
   "source": [
    "### 3. Đề tài"
   ]
  },
  {
   "cell_type": "markdown",
   "metadata": {},
   "source": [
    "- Nhóm thực hiện đề tài cài đặt song song hoá và tối ưu hoá phân đoạn ảnh bằng phương pháp K-means.\n",
    "- Input đầu vào là ảnh thuộc định dạng bmp.\n",
    "- Output là ảnh thuộc định dạng bmp đã được phân đoạn."
   ]
  },
  {
   "cell_type": "markdown",
   "metadata": {},
   "source": [
    "#### Phân đoạn ảnh - Image Segmentation\n"
   ]
  },
  {
   "cell_type": "markdown",
   "metadata": {},
   "source": [
    "- Phân vùng ảnh là một quá trình gán nhãn (assigning a lablel) cho mỗi điểm ảnh trong một bức ảnh, các điểm ảnh trong cùng một nhãn sẽ có những đặc tính giống nhau về màu sắc, cường độ hoặc kết cấu của ảnh."
   ]
  },
  {
   "cell_type": "markdown",
   "metadata": {},
   "source": [
    "- Kết quả của việc phân vùng ảnh là tập hợp các phân đoạn (segments) bao gồm có thể là toàn bộ bức ảnh hoặc tập hợp các đường biên chiết xuất từ hình ảnh. Các điểm ảnh trong cùng một vùng có đặc tính tương tự nhau về màu sắc, cường độ hoặc kết cấu. Các vùng lân cận thì khác nhau đáng kể về các đặc trưng trên."
   ]
  },
  {
   "cell_type": "markdown",
   "metadata": {},
   "source": [
    "![alt](https://miro.medium.com/max/700/1*eNA8yGWbWZcmjQ8K4HuTCw.png)"
   ]
  },
  {
   "cell_type": "markdown",
   "metadata": {},
   "source": [
    "#### Thuật toán phân cụm - K-means Algorithm"
   ]
  },
  {
   "cell_type": "markdown",
   "metadata": {},
   "source": [
    "![alt](https://3.bp.blogspot.com/-NMrDyo4_ySg/XDqlicW58WI/AAAAAAAAERI/bWXciHyrL_UzlGV2JSkB3D3iCKTtKnyYACLcBGAs/s1600/main.jpg)"
   ]
  },
  {
   "cell_type": "markdown",
   "metadata": {},
   "source": [
    "- K-Means là thuật toán rất quan trọng và được sử dụng phổ biến trong kỹ thuật phân cụm. Tư tưởng chính của thuật toán K-Means là tìm cách phân nhóm các đối tượng (objects) đã cho vào K cụm (K là số các cụm được xác đinh trước, K nguyên dương) sao cho tổng bình phương khoảng cách giữa các đối tượng đến tâm nhóm (centroid ) là nhỏ nhất."
   ]
  },
  {
   "cell_type": "markdown",
   "metadata": {},
   "source": [
    "### 4. Cài đặt thuật toán tuần tự"
   ]
  },
  {
   "cell_type": "markdown",
   "metadata": {},
   "source": [
    "a. Thực hiện đọc ảnh định dạng bmp đầu vào."
   ]
  },
  {
   "cell_type": "markdown",
   "metadata": {},
   "source": [
    "b. Cài đặt hàm khởi tạo cluster từ dữ liệu ảnh đầu vào."
   ]
  },
  {
   "cell_type": "markdown",
   "metadata": {},
   "source": [
    "c. Cài đặt hàm tính khoảng cách Euclid"
   ]
  },
  {
   "cell_type": "markdown",
   "metadata": {},
   "source": [
    "d. "
   ]
  },
  {
   "cell_type": "markdown",
   "metadata": {},
   "source": [
    "### 5. Cài đặt thuật toán song song"
   ]
  },
  {
   "cell_type": "markdown",
   "metadata": {},
   "source": [
    "### 6. Thảo luận"
   ]
  },
  {
   "cell_type": "markdown",
   "metadata": {},
   "source": [
    "### 7. Tham khảo"
   ]
  },
  {
   "cell_type": "code",
   "execution_count": null,
   "metadata": {},
   "outputs": [],
   "source": []
  }
 ],
 "metadata": {
  "kernelspec": {
   "display_name": "Python 3",
   "language": "python",
   "name": "python3"
  },
  "language_info": {
   "codemirror_mode": {
    "name": "ipython",
    "version": 3
   },
   "file_extension": ".py",
   "mimetype": "text/x-python",
   "name": "python",
   "nbconvert_exporter": "python",
   "pygments_lexer": "ipython3",
   "version": "3.7.4"
  }
 },
 "nbformat": 4,
 "nbformat_minor": 2
}
