{
  "nbformat": 4,
  "nbformat_minor": 0,
  "metadata": {
    "colab": {
      "name": "Untitled4.ipynb",
      "provenance": [],
      "collapsed_sections": []
    },
    "kernelspec": {
      "name": "python3",
      "display_name": "Python 3"
    },
    "language_info": {
      "name": "python"
    }
  },
  "cells": [
    {
      "cell_type": "markdown",
      "metadata": {
        "id": "wSXf791fdBzF"
      },
      "source": [
        "## Import libraries"
      ]
    },
    {
      "cell_type": "code",
      "metadata": {
        "id": "JfGhPHOcX25t"
      },
      "source": [
        "from PIL import Image\n",
        "import numpy as np\n",
        "import random\n",
        "import math"
      ],
      "execution_count": 20,
      "outputs": []
    },
    {
      "cell_type": "markdown",
      "metadata": {
        "id": "fwDDbhSedFXr"
      },
      "source": [
        "## Read Image"
      ]
    },
    {
      "cell_type": "code",
      "metadata": {
        "id": "VbnlHYPWctSe"
      },
      "source": [
        "def read_pnm(file_name):\n",
        "  with open(file_name, 'r') as f:\n",
        "    vals = f.read().split()\n",
        "  w = int(vals[1])\n",
        "  h = int(vals[2])\n",
        "  if vals[0] == 'P2': # Grayscale\n",
        "    pixels = np.array(vals[4:], dtype=np.uint8).reshape((h, w))\n",
        "  elif vals[0] == 'P3': # RGB\n",
        "    pixels = np.array(vals[4:], dtype=np.uint8).reshape((h, w, 3))\n",
        "  else:\n",
        "    return None\n",
        "  \n",
        "  return pixels"
      ],
      "execution_count": 7,
      "outputs": []
    },
    {
      "cell_type": "code",
      "metadata": {
        "id": "DipqP_IWdKvm"
      },
      "source": [
        "def show_pnm(file_name):\n",
        "  with open(file_name, 'r') as f:\n",
        "    vals = f.read().split()\n",
        "  w = int(vals[1])\n",
        "  h = int(vals[2])\n",
        "  if vals[0] == 'P2': # Grayscale\n",
        "    pixels = np.array(vals[4:], dtype=np.uint8).reshape((h, w))\n",
        "  elif vals[0] == 'P3': # RGB\n",
        "    pixels = np.array(vals[4:], dtype=np.uint8).reshape((h, w, 3))\n",
        "  else:\n",
        "    return None\n",
        "  \n",
        "  return Image.fromarray(pixels)"
      ],
      "execution_count": 8,
      "outputs": []
    },
    {
      "cell_type": "code",
      "metadata": {
        "id": "v2i8XdIkZLV1"
      },
      "source": [
        "def WritePnm(file_name, pixels, h, w , numchannels):\n",
        "  f = open(file_name, \"a\")\n",
        "  if (numchannels == 3):\n",
        "    f.write('P3\\n')\n",
        "  else:\n",
        "    f.write('P2\\n')\n",
        "  f.write(str(w) + ' ')\n",
        "  f.write(str(h) + '\\n')\n",
        "  f.write('255\\n')\n",
        "  for i in pixels:\n",
        "    for j in i:\n",
        "      for k in j:\n",
        "        f.write(str(k) + ' ')\n",
        "    f.write('\\n')"
      ],
      "execution_count": 2,
      "outputs": []
    },
    {
      "cell_type": "code",
      "metadata": {
        "colab": {
          "base_uri": "https://localhost:8080/"
        },
        "id": "nsKfudc3Yqiv",
        "outputId": "ae71f283-1ac1-48f9-e0f2-35029e95fd25"
      },
      "source": [
        "srcImage = read_pnm('in.pnm')\n",
        "print(srcImage[0][0])"
      ],
      "execution_count": 12,
      "outputs": [
        {
          "output_type": "stream",
          "text": [
            "[  0  89 152]\n"
          ],
          "name": "stdout"
        }
      ]
    },
    {
      "cell_type": "code",
      "metadata": {
        "id": "XUYgog5mZRXT"
      },
      "source": [
        "#Hàm khởi tạo tâm cho từng Clusters\n",
        "def initClusters(srcImage, k=2) :\n",
        "    # vector clusters chứa kết quả trả về\n",
        "    centers = []\n",
        "\n",
        "    # Lấy giá trị kích thước ảnh\n",
        "    shape = srcImage.shape\n",
        "    rows = shape[0]\n",
        "    cols = shape[1]\n",
        "\n",
        "    # Khởi tạo theo số cụm cluster đã khai báo\n",
        "    for i in range(k):\n",
        "        center = []\n",
        "        rand_x = random.randint(0,rows)\n",
        "        rand_y = random.randint(0,cols)\n",
        "        center = srcImage[rand_x, rand_y] \n",
        "\n",
        "        # Thêm cluster thứ index vào vector\n",
        "        centers.append([center,i])\n",
        "\n",
        "    # Trả về vector cluster đã được khởi tạo\n",
        "    return centers\n",
        "\n",
        "# Hàm tính khoảng khác biệt giữa 2 pixel bằng công thức Euclid\n",
        "def EuclideanDistance (pixel1, pixel2, dim):\n",
        "  result = 0\n",
        "  for i in range(0, dim) :\n",
        "    result += pow(pixel1[i] - pixel2[i],2)\n",
        "  result = round(math.sqrt(result))\n",
        "  return result\n",
        "\n",
        "#Lấy giá trị trung bình của cluster đối với ảnh có 1 kênh màu\n",
        "def meanCluster(srcImage, pixels, label):\n",
        "    temp = []\n",
        "    # Lấy kích thước của ảnh đầu vào\n",
        "    shape = srcImage.shape\n",
        "    print(shape)\n",
        "    rows = shape[0]\n",
        "    cols = shape[1]\n",
        "    dim = shape[2]\n",
        "    # Duyệt qua ảnh đầu vào \n",
        "    for row in range(0,rows) :\n",
        "        for col  in range(0,cols) :\n",
        "            if (pixels[row][col] == label):\n",
        "                temp.append(srcImage[row, col])\n",
        "    \n",
        "    temp_size = len(temp)\n",
        "    # đối với ảnh 1 kênh màu\n",
        "    if (dim == 1):       \n",
        "\t\t# Tính tổng giá trị của vector temp\n",
        "      sum = 0\n",
        "      for k in range(0,temp_size) :\n",
        "        sum += temp[k]\n",
        "        # Trả về giá trị trung bình của vector temp\n",
        "      if (temp_size < 1):\n",
        "        return 255\n",
        "      else:\n",
        "        return (sum / temp_size)\n",
        "     \n",
        "     # Đối với ảnh 3 kênh màu\n",
        "    elif (dim ==3):\n",
        "      sumB = 0\n",
        "      sumG = 0\n",
        "      sumR = 0\n",
        "      for k in range(0,temp_size):\n",
        "        sumB += temp[k][0]\n",
        "        sumG += temp[k][1]\n",
        "        sumR += temp[k][2]\n",
        "        # Trả về giá trị trung bình của vector temp\n",
        "      if (temp_size < 1):\n",
        "        return 255\n",
        "      else:\n",
        "        return [sumB/temp_size, sumG/temp_size, sumR/temp_size] "
      ],
      "execution_count": 32,
      "outputs": []
    },
    {
      "cell_type": "code",
      "metadata": {
        "id": "06kRBtDtaeR5"
      },
      "source": [
        "def apply(srcImage):\n",
        "  dstImage = srcImage;\n",
        "\n",
        "  clusters = initClusters(srcImage);\n",
        "\n",
        "  shape = srcImage.shape\n",
        "  rows = shape[0]\n",
        "  cols = shape[1]\n",
        "\n",
        "  pixels = [[-1]*cols for i in range(rows)]\n",
        "\n",
        "  index = 0\n",
        "  prevs = []\n",
        "\n",
        "  while (True):\n",
        "    prevs = clusters\n",
        "\n",
        "    for row in range(rows):\n",
        "      for col in range(cols):\n",
        "        minDiff = 0\n",
        "        minDiff = EuclideanDistance(srcImage[row][col], clusters[0])\n",
        "\n",
        "        diff = 0\n",
        "        label = 0\n",
        "\n",
        "        for (k in range(1, len(clusters))):\n",
        "          diff = EuclideanDistance(srcImage[row][col], clusters[k])\n",
        "          if (diff < minDiff):\n",
        "            minDiff = diff\n",
        "            label = k\n",
        "\n",
        "        pixels[row][col] = clusters[label].label\n",
        "\n",
        "    for (k in range(0, len(clusters))):\n",
        "      clusters[k].value = meanCluster(srcImage, pixels, clusters[k].label)\n",
        "\n",
        "\n",
        "    cambiati = 0\n",
        "    for (k in range(0, len(clusters))):\n",
        "      if (prevs[k].value != clusters[k].value):\n",
        "        cambiati += 1\n",
        "\n",
        "    if (cambiati == 0):\n",
        "      break\n",
        "\n",
        "    index += 1\n",
        "\n",
        "    for (row in range(0, shape[0])):\n",
        "      for (col in range(0, shape[1])):\n",
        "        dstImage[row][col] = clusters[pixels[row][col]].value"
      ],
      "execution_count": 33,
      "outputs": []
    },
    {
      "cell_type": "code",
      "metadata": {
        "id": "r7ZLuiQhd2YN"
      },
      "source": [
        "apply(srcImage)"
      ],
      "execution_count": 34,
      "outputs": []
    }
  ]
}